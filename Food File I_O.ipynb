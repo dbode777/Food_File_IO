{
 "cells": [
  {
   "cell_type": "markdown",
   "id": "bb46119d",
   "metadata": {},
   "source": [
    "# Food File I_O\n",
    "\n",
    "## Part 1:"
   ]
  },
  {
   "cell_type": "markdown",
   "id": "8a32439c",
   "metadata": {},
   "source": [
    "Make lists that can be altered/cleaned."
   ]
  },
  {
   "cell_type": "code",
   "execution_count": 13,
   "id": "ee7fad18",
   "metadata": {},
   "outputs": [
    {
     "name": "stdout",
     "output_type": "stream",
     "text": [
      "['foods', 'Donut', 'Carrot', 'Strawberry', 'Doritos: Cool Ranch', 'Pasta', 'Blue Berry Muffin', 'Strawberry Smoothie', 'Chocolate Milk', 'Protein Bar', 'Orange Juice', 'Greek Salad', '', 'Takis', 'Popcorn', 'salmon2', 'pizza rolls', 'canteloupe', 'potatoes', 'watermelon', 'oatmeal', 'Slim Jims', 'Brussel Sprouts', 'Lasagna', 'Fried Chicken', 'Pizza Rolls', 'Bacon', 'French Fries', 'Skim Milk', 'Green Beans', 'ja&ng', 'Doritos: Nacho Cheese', 'Hot Sauce', 'Sriacha', '']\n",
      "35\n"
     ]
    }
   ],
   "source": [
    "food_file = open(\"foods.txt\",\"rt\")\n",
    "food_list = food_file.read().split(\"\\n\")\n",
    "print(food_list)\n",
    "print(len(food_list))"
   ]
  },
  {
   "cell_type": "code",
   "execution_count": 14,
   "id": "56c0c04a",
   "metadata": {},
   "outputs": [
    {
     "name": "stdout",
     "output_type": "stream",
     "text": [
      "['low fat', 'No', 'Yes', 'yes', 'no', 'no', 'no', 'no', 'No', 'yes', 'no', 'no', '', 'no', 'no', 'yes', 'no', 'yes', 'yes ', 'yes ', 'yes', 'no', 'yes ', 'no', 'no', 'no', 'no', 'no', 'yes', 'yes ', 'sa2e ', 'no', 'yeS ', 'yes ', '']\n",
      "35\n"
     ]
    }
   ],
   "source": [
    "low_fat_file = open(\"lowfat.txt\",\"rt\")\n",
    "low_fat_list = low_fat_file.read().split(\"\\n\")\n",
    "print(low_fat_list)\n",
    "print(len(low_fat_list))"
   ]
  },
  {
   "cell_type": "code",
   "execution_count": 15,
   "id": "0d7509ca",
   "metadata": {
    "scrolled": true
   },
   "outputs": [
    {
     "name": "stdout",
     "output_type": "stream",
     "text": [
      "['high fiber', 'no', 'yes ', 'yes ', 'nO', 'no', 'no', 'no', 'no', 'yes ', 'no', 'no', '', 'no', 'yes ', 'yes  ', 'no', 'yes  ', 'no', 'yes  ', 'yes', 'yEs', 'yes', 'no', 'no', 'no', 'no', 'no', 'no', 'yes  ', '23314', 'no', 'No', 'yes  ', '']\n",
      "35\n"
     ]
    }
   ],
   "source": [
    "high_fiber_file = open(\"highfiber.txt\",\"rt\")\n",
    "high_fiber_list = high_fiber_file.read().split(\"\\n\")\n",
    "print(high_fiber_list)\n",
    "print(len(high_fiber_list))"
   ]
  },
  {
   "cell_type": "code",
   "execution_count": 16,
   "id": "ce4d424a",
   "metadata": {
    "scrolled": false
   },
   "outputs": [
    {
     "name": "stdout",
     "output_type": "stream",
     "text": [
      "['low glycemic index', 'no', 'yes', 'yes', 'no', 'no', 'No', 'yes', 'no', 'no', 'no', 'yes', '', 'no', 'no', 'yes', 'no', 'no', 'no', 'no', 'no', 'no', 'yes', 'no', 'no', 'no', 'no', 'no', 'no', 'yes', '4rde', 'No', 'yes', 'yes', '']\n",
      "35\n"
     ]
    }
   ],
   "source": [
    "low_glycemic_file = open(\"low-glycemic-index.txt\",\"rt\")\n",
    "low_glycemic_list = low_glycemic_file.read().split(\"\\n\")\n",
    "print(low_glycemic_list)\n",
    "print(len(low_glycemic_list))"
   ]
  },
  {
   "cell_type": "markdown",
   "id": "d5bbba14",
   "metadata": {},
   "source": [
    "Creating the list of dictionary for a JSON file:"
   ]
  },
  {
   "cell_type": "code",
   "execution_count": 37,
   "id": "b4005bc6",
   "metadata": {
    "scrolled": true
   },
   "outputs": [
    {
     "name": "stdout",
     "output_type": "stream",
     "text": [
      "[{'foods': 'donut', 'low fat': 'no', 'high fiber': 'no', 'low glycemic index': 'no'}, {'foods': 'carrot', 'low fat': 'yes', 'high fiber': 'yes', 'low glycemic index': 'yes'}, {'foods': 'strawberry', 'low fat': 'yes', 'high fiber': 'yes', 'low glycemic index': 'yes'}, {'foods': 'doritos: cool ranch', 'low fat': 'no', 'high fiber': 'no', 'low glycemic index': 'no'}, {'foods': 'pasta', 'low fat': 'no', 'high fiber': 'no', 'low glycemic index': 'no'}, {'foods': 'blue berry muffin', 'low fat': 'no', 'high fiber': 'no', 'low glycemic index': 'no'}, {'foods': 'strawberry smoothie', 'low fat': 'no', 'high fiber': 'no', 'low glycemic index': 'yes'}, {'foods': 'chocolate milk', 'low fat': 'no', 'high fiber': 'no', 'low glycemic index': 'no'}, {'foods': 'protein bar', 'low fat': 'yes', 'high fiber': 'yes', 'low glycemic index': 'no'}, {'foods': 'orange juice', 'low fat': 'no', 'high fiber': 'no', 'low glycemic index': 'no'}, {'foods': 'greek salad', 'low fat': 'no', 'high fiber': 'no', 'low glycemic index': 'yes'}, {'foods': '', 'low fat': '', 'high fiber': '', 'low glycemic index': ''}, {'foods': 'takis', 'low fat': 'no', 'high fiber': 'no', 'low glycemic index': 'no'}, {'foods': 'popcorn', 'low fat': 'no', 'high fiber': 'yes', 'low glycemic index': 'no'}, {'foods': 'salmon2', 'low fat': 'yes', 'high fiber': 'yes', 'low glycemic index': 'yes'}, {'foods': 'pizza rolls', 'low fat': 'no', 'high fiber': 'no', 'low glycemic index': 'no'}, {'foods': 'canteloupe', 'low fat': 'yes', 'high fiber': 'yes', 'low glycemic index': 'no'}, {'foods': 'potatoes', 'low fat': 'yes', 'high fiber': 'no', 'low glycemic index': 'no'}, {'foods': 'watermelon', 'low fat': 'yes', 'high fiber': 'yes', 'low glycemic index': 'no'}, {'foods': 'oatmeal', 'low fat': 'yes', 'high fiber': 'yes', 'low glycemic index': 'no'}, {'foods': 'slim jims', 'low fat': 'no', 'high fiber': 'yes', 'low glycemic index': 'no'}, {'foods': 'brussel sprouts', 'low fat': 'yes', 'high fiber': 'yes', 'low glycemic index': 'yes'}, {'foods': 'lasagna', 'low fat': 'no', 'high fiber': 'no', 'low glycemic index': 'no'}, {'foods': 'fried chicken', 'low fat': 'no', 'high fiber': 'no', 'low glycemic index': 'no'}, {'foods': 'pizza rolls', 'low fat': 'no', 'high fiber': 'no', 'low glycemic index': 'no'}, {'foods': 'bacon', 'low fat': 'no', 'high fiber': 'no', 'low glycemic index': 'no'}, {'foods': 'french fries', 'low fat': 'no', 'high fiber': 'no', 'low glycemic index': 'no'}, {'foods': 'skim milk', 'low fat': 'yes', 'high fiber': 'no', 'low glycemic index': 'no'}, {'foods': 'green beans', 'low fat': 'yes', 'high fiber': 'yes', 'low glycemic index': 'yes'}, {'foods': 'ja&ng', 'low fat': 'sa2e', 'high fiber': '23314', 'low glycemic index': '4rde'}, {'foods': 'doritos: nacho cheese', 'low fat': 'no', 'high fiber': 'no', 'low glycemic index': 'no'}, {'foods': 'hot sauce', 'low fat': 'yes', 'high fiber': 'no', 'low glycemic index': 'yes'}, {'foods': 'sriacha', 'low fat': 'yes', 'high fiber': 'yes', 'low glycemic index': 'yes'}, {'foods': '', 'low fat': '', 'high fiber': '', 'low glycemic index': ''}]\n"
     ]
    }
   ],
   "source": [
    "food_info = []\n",
    "\n",
    "for i in range(1,len(food_list)):\n",
    "    food_info.append({f\"{food_list[0]}\":f\"{food_list[i].lower().rstrip()}\",\n",
    "                      f\"{low_fat_list[0]}\":f\"{low_fat_list[i].lower().rstrip()}\",\n",
    "                      f\"{high_fiber_list[0]}\":f\"{high_fiber_list[i].lower().rstrip()}\",\n",
    "                     f\"{low_glycemic_list[0]}\":f\"{low_glycemic_list[i].lower().rstrip()}\"})\n",
    "    \n",
    "print(food_info)"
   ]
  },
  {
   "cell_type": "code",
   "execution_count": 38,
   "id": "040577a4",
   "metadata": {},
   "outputs": [
    {
     "data": {
      "text/plain": [
       "11"
      ]
     },
     "execution_count": 38,
     "metadata": {},
     "output_type": "execute_result"
    }
   ],
   "source": [
    "food_info.index({'foods': '', 'low fat': '', 'high fiber': '', 'low glycemic index': ''})"
   ]
  },
  {
   "cell_type": "code",
   "execution_count": 39,
   "id": "9aabc3de",
   "metadata": {
    "scrolled": true
   },
   "outputs": [
    {
     "name": "stdout",
     "output_type": "stream",
     "text": [
      "[11, 33]\n"
     ]
    }
   ],
   "source": [
    "empty_rows = [i for i in range(1,len(food_info)) if food_info[i] == {'foods': '', 'low fat': '', 'high fiber': '', 'low glycemic index': ''}]\n",
    "print(empty_rows)"
   ]
  },
  {
   "cell_type": "markdown",
   "id": "c40be792",
   "metadata": {},
   "source": [
    "Deleted empty rows and rows filled with non-sensical data:"
   ]
  },
  {
   "cell_type": "code",
   "execution_count": 40,
   "id": "5671c60e",
   "metadata": {},
   "outputs": [
    {
     "name": "stdout",
     "output_type": "stream",
     "text": [
      "[{'foods': 'carrot', 'low fat': 'yes', 'high fiber': 'yes', 'low glycemic index': 'yes'}, {'foods': 'strawberry', 'low fat': 'yes', 'high fiber': 'yes', 'low glycemic index': 'yes'}, {'foods': 'doritos: cool ranch', 'low fat': 'no', 'high fiber': 'no', 'low glycemic index': 'no'}, {'foods': 'pasta', 'low fat': 'no', 'high fiber': 'no', 'low glycemic index': 'no'}, {'foods': 'blue berry muffin', 'low fat': 'no', 'high fiber': 'no', 'low glycemic index': 'no'}, {'foods': 'strawberry smoothie', 'low fat': 'no', 'high fiber': 'no', 'low glycemic index': 'yes'}, {'foods': 'chocolate milk', 'low fat': 'no', 'high fiber': 'no', 'low glycemic index': 'no'}, {'foods': 'protein bar', 'low fat': 'yes', 'high fiber': 'yes', 'low glycemic index': 'no'}, {'foods': 'orange juice', 'low fat': 'no', 'high fiber': 'no', 'low glycemic index': 'no'}, {'foods': 'greek salad', 'low fat': 'no', 'high fiber': 'no', 'low glycemic index': 'yes'}, {'foods': 'takis', 'low fat': 'no', 'high fiber': 'no', 'low glycemic index': 'no'}, {'foods': 'popcorn', 'low fat': 'no', 'high fiber': 'yes', 'low glycemic index': 'no'}, {'foods': 'salmon2', 'low fat': 'yes', 'high fiber': 'yes', 'low glycemic index': 'yes'}, {'foods': 'pizza rolls', 'low fat': 'no', 'high fiber': 'no', 'low glycemic index': 'no'}, {'foods': 'canteloupe', 'low fat': 'yes', 'high fiber': 'yes', 'low glycemic index': 'no'}, {'foods': 'potatoes', 'low fat': 'yes', 'high fiber': 'no', 'low glycemic index': 'no'}, {'foods': 'watermelon', 'low fat': 'yes', 'high fiber': 'yes', 'low glycemic index': 'no'}, {'foods': 'oatmeal', 'low fat': 'yes', 'high fiber': 'yes', 'low glycemic index': 'no'}, {'foods': 'slim jims', 'low fat': 'no', 'high fiber': 'yes', 'low glycemic index': 'no'}, {'foods': 'brussel sprouts', 'low fat': 'yes', 'high fiber': 'yes', 'low glycemic index': 'yes'}, {'foods': 'lasagna', 'low fat': 'no', 'high fiber': 'no', 'low glycemic index': 'no'}, {'foods': 'fried chicken', 'low fat': 'no', 'high fiber': 'no', 'low glycemic index': 'no'}, {'foods': 'pizza rolls', 'low fat': 'no', 'high fiber': 'no', 'low glycemic index': 'no'}, {'foods': 'bacon', 'low fat': 'no', 'high fiber': 'no', 'low glycemic index': 'no'}, {'foods': 'french fries', 'low fat': 'no', 'high fiber': 'no', 'low glycemic index': 'no'}, {'foods': 'skim milk', 'low fat': 'yes', 'high fiber': 'no', 'low glycemic index': 'no'}, {'foods': 'green beans', 'low fat': 'yes', 'high fiber': 'yes', 'low glycemic index': 'yes'}, {'foods': 'doritos: nacho cheese', 'low fat': 'no', 'high fiber': 'no', 'low glycemic index': 'no'}, {'foods': 'hot sauce', 'low fat': 'yes', 'high fiber': 'no', 'low glycemic index': 'yes'}, {'foods': 'sriacha', 'low fat': 'yes', 'high fiber': 'yes', 'low glycemic index': 'yes'}]\n"
     ]
    }
   ],
   "source": [
    "cleaned_food_info = [food_info[i] for i in range(1,len(food_info)) if food_info[i] != {'foods': '', 'low fat': '', 'high fiber': '', 'low glycemic index': ''} and food_info[i] != {'foods': 'ja&ng', 'low fat': 'sa2e', 'high fiber': '23314', 'low glycemic index': '4rde'}]\n",
    "print(cleaned_food_info)"
   ]
  },
  {
   "cell_type": "markdown",
   "id": "9c9850bd",
   "metadata": {},
   "source": [
    "Creating a .json file from this list of dictionaries:"
   ]
  },
  {
   "cell_type": "code",
   "execution_count": 46,
   "id": "1f2ee826",
   "metadata": {
    "scrolled": true
   },
   "outputs": [],
   "source": [
    "import json\n",
    "food_info_json_file = open(\"food_info.json\",\"wt\")\n",
    "json.dump(cleaned_food_info,food_info_json_file)\n",
    "food_info_json_file.close()"
   ]
  },
  {
   "cell_type": "markdown",
   "id": "23727b05",
   "metadata": {},
   "source": [
    "Now you should see a file in the directory where this file is located that contains the cleaned food info list formatted in JSON."
   ]
  },
  {
   "cell_type": "markdown",
   "id": "b34ef177",
   "metadata": {},
   "source": [
    "## Part 2:"
   ]
  },
  {
   "cell_type": "markdown",
   "id": "4b0d7a6a",
   "metadata": {},
   "source": [
    "Now that we have the JSON folder written, let's read it into this notebook, and do some statistical analysis on the file."
   ]
  },
  {
   "cell_type": "code",
   "execution_count": 56,
   "id": "dc2cad6f",
   "metadata": {},
   "outputs": [
    {
     "name": "stdout",
     "output_type": "stream",
     "text": [
      "[{'foods': 'carrot', 'low fat': 'yes', 'high fiber': 'yes', 'low glycemic index': 'yes'}, {'foods': 'strawberry', 'low fat': 'yes', 'high fiber': 'yes', 'low glycemic index': 'yes'}, {'foods': 'doritos: cool ranch', 'low fat': 'no', 'high fiber': 'no', 'low glycemic index': 'no'}, {'foods': 'pasta', 'low fat': 'no', 'high fiber': 'no', 'low glycemic index': 'no'}, {'foods': 'blue berry muffin', 'low fat': 'no', 'high fiber': 'no', 'low glycemic index': 'no'}, {'foods': 'strawberry smoothie', 'low fat': 'no', 'high fiber': 'no', 'low glycemic index': 'yes'}, {'foods': 'chocolate milk', 'low fat': 'no', 'high fiber': 'no', 'low glycemic index': 'no'}, {'foods': 'protein bar', 'low fat': 'yes', 'high fiber': 'yes', 'low glycemic index': 'no'}, {'foods': 'orange juice', 'low fat': 'no', 'high fiber': 'no', 'low glycemic index': 'no'}, {'foods': 'greek salad', 'low fat': 'no', 'high fiber': 'no', 'low glycemic index': 'yes'}, {'foods': 'takis', 'low fat': 'no', 'high fiber': 'no', 'low glycemic index': 'no'}, {'foods': 'popcorn', 'low fat': 'no', 'high fiber': 'yes', 'low glycemic index': 'no'}, {'foods': 'salmon2', 'low fat': 'yes', 'high fiber': 'yes', 'low glycemic index': 'yes'}, {'foods': 'pizza rolls', 'low fat': 'no', 'high fiber': 'no', 'low glycemic index': 'no'}, {'foods': 'canteloupe', 'low fat': 'yes', 'high fiber': 'yes', 'low glycemic index': 'no'}, {'foods': 'potatoes', 'low fat': 'yes', 'high fiber': 'no', 'low glycemic index': 'no'}, {'foods': 'watermelon', 'low fat': 'yes', 'high fiber': 'yes', 'low glycemic index': 'no'}, {'foods': 'oatmeal', 'low fat': 'yes', 'high fiber': 'yes', 'low glycemic index': 'no'}, {'foods': 'slim jims', 'low fat': 'no', 'high fiber': 'yes', 'low glycemic index': 'no'}, {'foods': 'brussel sprouts', 'low fat': 'yes', 'high fiber': 'yes', 'low glycemic index': 'yes'}, {'foods': 'lasagna', 'low fat': 'no', 'high fiber': 'no', 'low glycemic index': 'no'}, {'foods': 'fried chicken', 'low fat': 'no', 'high fiber': 'no', 'low glycemic index': 'no'}, {'foods': 'pizza rolls', 'low fat': 'no', 'high fiber': 'no', 'low glycemic index': 'no'}, {'foods': 'bacon', 'low fat': 'no', 'high fiber': 'no', 'low glycemic index': 'no'}, {'foods': 'french fries', 'low fat': 'no', 'high fiber': 'no', 'low glycemic index': 'no'}, {'foods': 'skim milk', 'low fat': 'yes', 'high fiber': 'no', 'low glycemic index': 'no'}, {'foods': 'green beans', 'low fat': 'yes', 'high fiber': 'yes', 'low glycemic index': 'yes'}, {'foods': 'doritos: nacho cheese', 'low fat': 'no', 'high fiber': 'no', 'low glycemic index': 'no'}, {'foods': 'hot sauce', 'low fat': 'yes', 'high fiber': 'no', 'low glycemic index': 'yes'}, {'foods': 'sriacha', 'low fat': 'yes', 'high fiber': 'yes', 'low glycemic index': 'yes'}]\n"
     ]
    }
   ],
   "source": [
    "food_info_read_file = open(\"food_info.json\",\"rt\")\n",
    "stat_file = json.load(food_info_read_file)\n",
    "print(stat_file)"
   ]
  },
  {
   "cell_type": "code",
   "execution_count": 77,
   "id": "7b67498e",
   "metadata": {
    "scrolled": true
   },
   "outputs": [
    {
     "name": "stdout",
     "output_type": "stream",
     "text": [
      "\n",
      "The number of low fat foods is 13.\n",
      "The number of high fiber foods is 12.\n",
      "The number of low glycemic foods is 9.\n",
      "\n",
      "The percentage of foods that are low fat foods in the list is: 43.3%.\n",
      "The percentage of foods that are high fiber foods in the list is: 40.0%.\n",
      "The percentage of foods that are low glycemic foods in the list is: 30.0%.\n"
     ]
    }
   ],
   "source": [
    "low_fat_counter = 0\n",
    "high_fiber_counter = 0\n",
    "low_glycemic_counter = 0\n",
    "\n",
    "for i in range(0,len(stat_file)):\n",
    "    if list(stat_file[i].values())[1] == 'yes':\n",
    "        low_fat_counter += 1\n",
    "        \n",
    "    if list(stat_file[i].values())[2] == 'yes':\n",
    "        high_fiber_counter += 1\n",
    "        \n",
    "    if list(stat_file[i].values())[3] == 'yes':\n",
    "        low_glycemic_counter += 1\n",
    "\n",
    "print(f\"\\nThe number of low fat foods is {low_fat_counter}.\")\n",
    "print(f\"The number of high fiber foods is {high_fiber_counter}.\")\n",
    "print(f\"The number of low glycemic foods is {low_glycemic_counter}.\")\n",
    "\n",
    "print(f\"\\nThe percentage of foods that are low fat foods in the list is: {round((low_fat_counter/len(stat_file)*100),1)}%.\")\n",
    "print(f\"The percentage of foods that are high fiber foods in the list is: {round((high_fiber_counter/len(stat_file)*100),1)}%.\")\n",
    "print(f\"The percentage of foods that are low glycemic foods in the list is: {round((low_glycemic_counter/len(stat_file)*100),1)}%.\")"
   ]
  },
  {
   "cell_type": "markdown",
   "id": "c5dfd295",
   "metadata": {},
   "source": [
    "Print out all recommend foods that are low fat, high fiber, and low glycemic."
   ]
  },
  {
   "cell_type": "code",
   "execution_count": 74,
   "id": "d839e5e8",
   "metadata": {},
   "outputs": [
    {
     "name": "stdout",
     "output_type": "stream",
     "text": [
      "carrot is a recommended food.\n",
      "strawberry is a recommended food.\n",
      "salmon2 is a recommended food.\n",
      "brussel sprouts is a recommended food.\n",
      "green beans is a recommended food.\n",
      "sriacha is a recommended food.\n"
     ]
    }
   ],
   "source": [
    "recommended_foods = [list(stat_file[i].values())[0] for i in range(0,len(stat_file)) if list(stat_file[i].values())[1] == 'yes' and list(stat_file[i].values())[2] == 'yes' and list(stat_file[i].values())[3] == 'yes']\n",
    "\n",
    "for x in recommended_foods:\n",
    "    print(f\"{x} is a recommended food.\")"
   ]
  }
 ],
 "metadata": {
  "kernelspec": {
   "display_name": "Python 3 (ipykernel)",
   "language": "python",
   "name": "python3"
  },
  "language_info": {
   "codemirror_mode": {
    "name": "ipython",
    "version": 3
   },
   "file_extension": ".py",
   "mimetype": "text/x-python",
   "name": "python",
   "nbconvert_exporter": "python",
   "pygments_lexer": "ipython3",
   "version": "3.8.5"
  }
 },
 "nbformat": 4,
 "nbformat_minor": 5
}
